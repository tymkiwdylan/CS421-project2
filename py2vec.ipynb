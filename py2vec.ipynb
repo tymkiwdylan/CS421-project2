{
 "cells": [
  {
   "cell_type": "code",
   "execution_count": 2,
   "metadata": {},
   "outputs": [
    {
     "name": "stdout",
     "output_type": "stream",
     "text": [
      "Collecting gensim\n",
      "  Downloading gensim-4.3.1-cp310-cp310-manylinux_2_17_x86_64.manylinux2014_x86_64.whl (26.4 MB)\n",
      "\u001b[2K     \u001b[90m━━━━━━━━━━━━━━━━━━━━━━━━━━━━━━━━━━━━━━━━\u001b[0m \u001b[32m26.4/26.4 MB\u001b[0m \u001b[31m20.3 MB/s\u001b[0m eta \u001b[36m0:00:00\u001b[0m00:01\u001b[0m00:01\u001b[0m\n",
      "\u001b[?25hRequirement already satisfied: numpy>=1.18.5 in /home/codespace/.local/lib/python3.10/site-packages (from gensim) (1.24.2)\n",
      "Collecting smart-open>=1.8.1\n",
      "  Downloading smart_open-6.3.0-py3-none-any.whl (56 kB)\n",
      "\u001b[2K     \u001b[90m━━━━━━━━━━━━━━━━━━━━━━━━━━━━━━━━━━━━━━━━\u001b[0m \u001b[32m56.8/56.8 kB\u001b[0m \u001b[31m2.1 MB/s\u001b[0m eta \u001b[36m0:00:00\u001b[0m\n",
      "\u001b[?25hRequirement already satisfied: scipy>=1.7.0 in /home/codespace/.local/lib/python3.10/site-packages (from gensim) (1.10.1)\n",
      "Installing collected packages: smart-open, gensim\n",
      "Successfully installed gensim-4.3.1 smart-open-6.3.0\n",
      "\n",
      "\u001b[1m[\u001b[0m\u001b[34;49mnotice\u001b[0m\u001b[1;39;49m]\u001b[0m\u001b[39;49m A new release of pip is available: \u001b[0m\u001b[31;49m23.0.1\u001b[0m\u001b[39;49m -> \u001b[0m\u001b[32;49m23.1\u001b[0m\n",
      "\u001b[1m[\u001b[0m\u001b[34;49mnotice\u001b[0m\u001b[1;39;49m]\u001b[0m\u001b[39;49m To update, run: \u001b[0m\u001b[32;49mpip install --upgrade pip\u001b[0m\n",
      "Note: you may need to restart the kernel to use updated packages.\n"
     ]
    }
   ],
   "source": [
    "%pip install gensim"
   ]
  },
  {
   "cell_type": "code",
   "execution_count": 2,
   "metadata": {},
   "outputs": [],
   "source": [
    "from git import Repo\n",
    "import os\n",
    "import re\n",
    "import string\n",
    "import gensim"
   ]
  },
  {
   "cell_type": "code",
   "execution_count": 1,
   "metadata": {},
   "outputs": [],
   "source": [
    "\"\"\"repos = {\n",
    "'https://github.com/matplotlib/matplotlib': 'matplotlib',\n",
    "'https://github.com/django/django': 'django',\n",
    "'https://github.com/numpy/numpy': 'numpy',\n",
    "'https://github.com/pallets/flask': 'flask',\n",
    "'https://github.com/beetbox/beets': 'beets'}\"\"\"\n",
    "\n",
    "repos = {\n",
    "'https://github.com/HelloWorld521/Java': 'Java-master',\n",
    "'https://github.com/pubnub/java': 'pubnub',\n",
    "'https://github.com/json-iterator/java': 'json-iterator',\n",
    "'https://github.com/skylot/jadx': 'skylot',\n",
    "'https://github.com/SquareSquash/java': 'squareSquash'\n",
    "}"
   ]
  },
  {
   "cell_type": "code",
   "execution_count": 3,
   "metadata": {},
   "outputs": [],
   "source": [
    "#Realized this is probably not best practice since now I have 5 repositories within my own repo\n",
    "def clone_repos():\n",
    "    for repo in repos:\n",
    "        Repo.clone_from(repo, repos[repo])\n"
   ]
  },
  {
   "cell_type": "code",
   "execution_count": 4,
   "metadata": {},
   "outputs": [],
   "source": [
    "repo_directories = list(repos.values())"
   ]
  },
  {
   "cell_type": "code",
   "execution_count": 13,
   "metadata": {},
   "outputs": [],
   "source": [
    "def find_files(paths, extension):\n",
    "    python_files = []\n",
    "    for path in paths:\n",
    "        for root, dirs, files in os.walk(path):\n",
    "            for file in files:\n",
    "                if file.endswith(extension):\n",
    "                    python_files.append(os.path.join(root, file))\n",
    "    return python_files\n",
    "\n",
    "def join_files(files, output_file):\n",
    "    with open(output_file, 'w') as outfile:\n",
    "        for file in files:\n",
    "            with open(file, 'r', encoding=\"ISO-8859-1\") as infile:\n",
    "                outfile.write(infile.read())\n",
    "\n",
    "\n",
    "files = find_files(repo_directories, '.java')\n",
    "join_files(files, 'data_to_process.txt')"
   ]
  },
  {
   "cell_type": "code",
   "execution_count": 14,
   "metadata": {},
   "outputs": [
    {
     "name": "stdout",
     "output_type": "stream",
     "text": [
      "202844\n"
     ]
    }
   ],
   "source": [
    "num_lines = 0\n",
    "with open('data_to_process.txt', 'r') as file:\n",
    "    lines = file.readlines()\n",
    "    num_lines = len(lines)\n",
    "\n",
    "print(num_lines)"
   ]
  },
  {
   "cell_type": "code",
   "execution_count": 15,
   "metadata": {},
   "outputs": [],
   "source": [
    "def tokenize(path):\n",
    "    with open(path, 'r') as file:\n",
    "        # Read all the lines of the file\n",
    "        lines = file.readlines()\n",
    "\n",
    "        # Lowercase everything and split on whitespace and punctuation characters\n",
    "        tokenized_lines = []\n",
    "        for line in lines:\n",
    "            # Remove punctuation\n",
    "            line = line.translate(str.maketrans('', '', string.punctuation))\n",
    "            # Lowercase and tokenize\n",
    "            tokens = re.findall(r'\\w+', line.lower())\n",
    "            tokenized_lines.append(tokens)\n",
    "\n",
    "        # Print the tokenized lines\n",
    "    return tokenized_lines\n",
    "\n",
    "tokenized = tokenize('data_to_process.txt')"
   ]
  },
  {
   "cell_type": "code",
   "execution_count": 18,
   "metadata": {},
   "outputs": [
    {
     "name": "stdout",
     "output_type": "stream",
     "text": [
      "['import', 'beanimooc']\n"
     ]
    }
   ],
   "source": []
  },
  {
   "cell_type": "code",
   "execution_count": null,
   "metadata": {},
   "outputs": [],
   "source": [
    "def update_dict(path, dict):\n",
    "    with open(path, 'r') as file:\n",
    "        # Read all the lines of the file\n",
    "        lines = file.readlines()\n",
    "\n",
    "        # Lowercase everything and split on whitespace and punctuation characters\n",
    "        for line in lines:\n",
    "            # Remove punctuation\n",
    "            line = line.translate(str.maketrans('', '', string.punctuation))\n",
    "            # Lowercase and tokenize\n",
    "            tokens = re.findall(r'\\w+', line.lower())\n",
    "            for token in tokens:\n",
    "                # if token in dict: # We can just take all tokens that we find\n",
    "                dict[token] += 1\n",
    "        # Print the tokenized lines\n",
    "    return dict"
   ]
  },
  {
   "cell_type": "code",
   "execution_count": null,
   "metadata": {},
   "outputs": [],
   "source": []
  },
  {
   "cell_type": "code",
   "execution_count": 7,
   "metadata": {},
   "outputs": [
    {
     "name": "stdout",
     "output_type": "stream",
     "text": [
      "['import', 'configparser']\n"
     ]
    }
   ],
   "source": [
    "print(tokenized[0])"
   ]
  },
  {
   "cell_type": "code",
   "execution_count": 9,
   "metadata": {},
   "outputs": [],
   "source": [
    "model = gensim.models.Word2Vec(\n",
    "    window=10,\n",
    "    min_count=2\n",
    ")"
   ]
  },
  {
   "cell_type": "code",
   "execution_count": 10,
   "metadata": {},
   "outputs": [],
   "source": [
    "model.build_vocab(tokenized)"
   ]
  },
  {
   "cell_type": "code",
   "execution_count": 11,
   "metadata": {},
   "outputs": [
    {
     "data": {
      "text/plain": [
       "(10931746, 14120555)"
      ]
     },
     "execution_count": 11,
     "metadata": {},
     "output_type": "execute_result"
    }
   ],
   "source": [
    "model.train(tokenized, total_examples=model.corpus_count, epochs=model.epochs)"
   ]
  },
  {
   "cell_type": "code",
   "execution_count": 12,
   "metadata": {},
   "outputs": [
    {
     "data": {
      "text/plain": [
       "[('otherwise', 0.718620777130127),\n",
       " ('elif', 0.7119972109794617),\n",
       " ('while', 0.6998335123062134),\n",
       " ('when', 0.6906937956809998),\n",
       " ('null', 0.6872490048408508),\n",
       " ('whether', 0.67609703540802),\n",
       " ('none', 0.6705725193023682),\n",
       " ('already', 0.6699262261390686),\n",
       " ('unless', 0.6671518683433533),\n",
       " ('mask', 0.6605451703071594)]"
      ]
     },
     "execution_count": 12,
     "metadata": {},
     "output_type": "execute_result"
    }
   ],
   "source": [
    "model.wv.most_similar('if')"
   ]
  },
  {
   "cell_type": "code",
   "execution_count": 13,
   "metadata": {},
   "outputs": [
    {
     "data": {
      "text/plain": [
       "[('matplotlib', 0.8499850034713745),\n",
       " ('python', 0.8109897375106812),\n",
       " ('versioneer', 0.8086008429527283),\n",
       " ('api', 0.8068303465843201),\n",
       " ('standard', 0.7883699536323547),\n",
       " ('normally', 0.7853283882141113),\n",
       " ('rules', 0.7842274308204651),\n",
       " ('builtin', 0.783158540725708),\n",
       " ('operations', 0.7806879281997681),\n",
       " ('itself', 0.7787118554115295)]"
      ]
     },
     "execution_count": 13,
     "metadata": {},
     "output_type": "execute_result"
    }
   ],
   "source": [
    "model.wv.most_similar('numpy')"
   ]
  },
  {
   "cell_type": "code",
   "execution_count": 14,
   "metadata": {},
   "outputs": [
    {
     "data": {
      "text/plain": [
       "[('including', 0.7345075607299805),\n",
       " ('below', 0.7341067790985107),\n",
       " ('etc', 0.718497097492218),\n",
       " ('across', 0.7107565999031067),\n",
       " ('specific', 0.7014289498329163),\n",
       " ('about', 0.6997344493865967),\n",
       " ('general', 0.697181761264801),\n",
       " ('separate', 0.6890835762023926),\n",
       " ('shows', 0.6862593293190002),\n",
       " ('within', 0.6844853758811951)]"
      ]
     },
     "execution_count": 14,
     "metadata": {},
     "output_type": "execute_result"
    }
   ],
   "source": [
    "model.wv.most_similar('for')"
   ]
  },
  {
   "cell_type": "code",
   "execution_count": 15,
   "metadata": {},
   "outputs": [
    {
     "data": {
      "text/plain": [
       "[('gdal', 0.8174210786819458),\n",
       " ('numpy', 0.8109896779060364),\n",
       " ('django', 0.8022615909576416),\n",
       " ('binary', 0.7981561422348022),\n",
       " ('eg', 0.7868084907531738),\n",
       " ('syntax', 0.7799013257026672),\n",
       " ('standard', 0.7771339416503906),\n",
       " ('matplotlib', 0.7760329246520996),\n",
       " ('format', 0.7736160755157471),\n",
       " ('conversion', 0.7679827213287354)]"
      ]
     },
     "execution_count": 15,
     "metadata": {},
     "output_type": "execute_result"
    }
   ],
   "source": [
    "model.wv.most_similar('python')"
   ]
  },
  {
   "cell_type": "code",
   "execution_count": 16,
   "metadata": {},
   "outputs": [
    {
     "data": {
      "text/plain": [
       "[('annotations', 0.8342968821525574),\n",
       " ('axisartist', 0.8206683993339539),\n",
       " ('matplotlib', 0.8078427910804749),\n",
       " ('versioneer', 0.8030622005462646),\n",
       " ('environment', 0.8024169206619263),\n",
       " ('plugins', 0.7947495579719543),\n",
       " ('itself', 0.7917675375938416),\n",
       " ('circular', 0.790052592754364),\n",
       " ('subprocess', 0.7893010973930359),\n",
       " ('automatically', 0.7876556515693665)]"
      ]
     },
     "execution_count": 16,
     "metadata": {},
     "output_type": "execute_result"
    }
   ],
   "source": [
    "model.wv.most_similar('flask')"
   ]
  },
  {
   "cell_type": "code",
   "execution_count": 17,
   "metadata": {},
   "outputs": [
    {
     "data": {
      "text/plain": [
       "array([-1.8944206 ,  0.80996406,  0.59430397,  0.6234708 , -0.9312546 ,\n",
       "       -0.03448444, -0.73172086, -2.3590984 , -0.38435715, -0.15836899,\n",
       "       -0.01347228, -0.66620356,  2.5671153 , -0.7808101 ,  0.7650806 ,\n",
       "        0.04958167,  0.9269057 ,  0.707782  , -0.1023396 ,  2.0489178 ,\n",
       "        0.7378201 ,  1.6159122 , -0.30397475,  1.0450467 , -0.95720154,\n",
       "        0.21820392, -1.8796742 , -0.46014917, -0.9414309 , -2.6467412 ,\n",
       "       -2.1580389 ,  2.8401995 ,  1.0763602 ,  2.5804543 , -0.159758  ,\n",
       "       -1.1454809 ,  0.47640812, -1.4315168 , -0.6257565 ,  0.88360965,\n",
       "       -2.3916798 ,  1.9061373 ,  2.158535  ,  0.10764606,  1.278896  ,\n",
       "        0.5962049 , -0.09935653,  0.7318937 , -1.2852921 ,  0.5221557 ,\n",
       "        0.02579206,  2.8803163 , -1.0149637 , -1.8378227 , -1.8483118 ,\n",
       "        0.02338815, -0.9460353 , -0.01330795,  0.08463794,  0.30199772,\n",
       "       -1.812349  ,  1.2380136 , -1.1034875 ,  1.1786554 ,  0.29855895,\n",
       "       -0.49326995,  0.16905677,  0.9867426 , -0.06096   ,  1.8603164 ,\n",
       "       -0.02040929, -1.3591807 , -0.95958894, -0.5406899 ,  0.6727874 ,\n",
       "        0.8575634 ,  1.5117399 , -0.18976675, -0.03847762, -0.08340473,\n",
       "       -2.4859598 , -0.38012427,  1.5526534 ,  1.4060183 , -2.4705465 ,\n",
       "        0.6309638 ,  1.7650799 ,  0.73442763, -0.6782781 ,  0.7168771 ,\n",
       "       -2.5937514 , -0.78480136, -0.998787  ,  1.0257105 ,  1.6560279 ,\n",
       "        0.84288156,  0.06820346,  1.126669  , -0.33724114,  0.7121324 ],\n",
       "      dtype=float32)"
      ]
     },
     "execution_count": 17,
     "metadata": {},
     "output_type": "execute_result"
    }
   ],
   "source": [
    "model.wv['django']"
   ]
  },
  {
   "cell_type": "code",
   "execution_count": 19,
   "metadata": {},
   "outputs": [
    {
     "data": {
      "text/plain": [
       "0.6188314"
      ]
     },
     "execution_count": 19,
     "metadata": {},
     "output_type": "execute_result"
    }
   ],
   "source": [
    "model.wv.similarity('numpy', 'math')"
   ]
  },
  {
   "cell_type": "code",
   "execution_count": 20,
   "metadata": {},
   "outputs": [
    {
     "data": {
      "text/plain": [
       "0.58371794"
      ]
     },
     "execution_count": 20,
     "metadata": {},
     "output_type": "execute_result"
    }
   ],
   "source": [
    "model.wv.similarity('flask', 'python')"
   ]
  },
  {
   "cell_type": "code",
   "execution_count": null,
   "metadata": {},
   "outputs": [],
   "source": []
  }
 ],
 "metadata": {
  "kernelspec": {
   "display_name": "Python 3.10.2 64-bit",
   "language": "python",
   "name": "python3"
  },
  "language_info": {
   "codemirror_mode": {
    "name": "ipython",
    "version": 3
   },
   "file_extension": ".py",
   "mimetype": "text/x-python",
   "name": "python",
   "nbconvert_exporter": "python",
   "pygments_lexer": "ipython3",
   "version": "3.10.4"
  },
  "orig_nbformat": 4,
  "vscode": {
   "interpreter": {
    "hash": "610c699f0cd8c4f129acd9140687fff6866bed0eb8e82f249fc8848b827b628c"
   }
  }
 },
 "nbformat": 4,
 "nbformat_minor": 2
}
