{
 "cells": [
  {
   "cell_type": "code",
   "execution_count": 9,
   "metadata": {},
   "outputs": [],
   "source": [
    "from git import Repo\n",
    "import os\n",
    "import re\n",
    "import string\n",
    "import gensim"
   ]
  },
  {
   "cell_type": "code",
   "execution_count": 2,
   "metadata": {},
   "outputs": [],
   "source": [
    "repos = {\n",
    "'https://github.com/matplotlib/matplotlib': 'matplotlib',\n",
    "'https://github.com/django/django': 'django',\n",
    "'https://github.com/numpy/numpy': 'numpy',\n",
    "'https://github.com/pallets/flask': 'flask',\n",
    "'https://github.com/beetbox/beets': 'beets'}"
   ]
  },
  {
   "cell_type": "code",
   "execution_count": null,
   "metadata": {},
   "outputs": [],
   "source": [
    "#Realized this is probably not best practice since now I have 5 repositories within my own repo\n",
    "for repo in repos:\n",
    "    Repo.clone_from(repo, repos[repo])\n"
   ]
  },
  {
   "cell_type": "code",
   "execution_count": 3,
   "metadata": {},
   "outputs": [],
   "source": [
    "repo_directories = list(repos.values())"
   ]
  },
  {
   "cell_type": "code",
   "execution_count": 9,
   "metadata": {},
   "outputs": [],
   "source": [
    "def find_python_files(paths):\n",
    "    python_files = []\n",
    "    for path in paths:\n",
    "        for root, dirs, files in os.walk(path):\n",
    "            for file in files:\n",
    "                if file.endswith('.py'):\n",
    "                    python_files.append(os.path.join(root, file))\n",
    "    return python_files\n",
    "\n",
    "def join_python_files(files, output_file):\n",
    "    with open(output_file, 'w') as outfile:\n",
    "        for file in files:\n",
    "            with open(file, 'r') as infile:\n",
    "                outfile.write(infile.read())\n",
    "\n",
    "\n",
    "python_files = find_python_files(repo_directories)\n",
    "join_python_files(python_files, 'data_to_process.txt')"
   ]
  },
  {
   "cell_type": "code",
   "execution_count": 10,
   "metadata": {},
   "outputs": [
    {
     "name": "stdout",
     "output_type": "stream",
     "text": [
      "1042563\n"
     ]
    }
   ],
   "source": [
    "num_lines = 0\n",
    "with open('data_to_process.txt', 'r') as file:\n",
    "    lines = file.readlines()\n",
    "    num_lines = len(lines)\n",
    "\n",
    "print(num_lines)"
   ]
  },
  {
   "cell_type": "code",
   "execution_count": 4,
   "metadata": {},
   "outputs": [],
   "source": [
    "def tokenize(path):\n",
    "    with open(path, 'r') as file:\n",
    "        # Read all the lines of the file\n",
    "        lines = file.readlines()\n",
    "\n",
    "        # Lowercase everything and split on whitespace and punctuation characters\n",
    "        tokenized_lines = []\n",
    "        for line in lines:\n",
    "            # Remove punctuation\n",
    "            line = line.translate(str.maketrans('', '', string.punctuation))\n",
    "            # Lowercase and tokenize\n",
    "            tokens = re.findall(r'\\w+', line.lower())\n",
    "            tokenized_lines.append(tokens)\n",
    "\n",
    "        # Print the tokenized lines\n",
    "    return tokenized_lines\n",
    "\n",
    "tokenized = tokenize('data_to_process.txt')"
   ]
  },
  {
   "cell_type": "code",
   "execution_count": 10,
   "metadata": {},
   "outputs": [],
   "source": [
    "model = gensim.models.Word2Vec(\n",
    "    window=10,\n",
    "    min_count=2\n",
    ")"
   ]
  },
  {
   "cell_type": "code",
   "execution_count": 11,
   "metadata": {},
   "outputs": [],
   "source": [
    "model.build_vocab(tokenized)"
   ]
  },
  {
   "cell_type": "code",
   "execution_count": 13,
   "metadata": {},
   "outputs": [
    {
     "data": {
      "text/plain": [
       "(10930390, 14120555)"
      ]
     },
     "execution_count": 13,
     "metadata": {},
     "output_type": "execute_result"
    }
   ],
   "source": [
    "model.train(tokenized, total_examples=model.corpus_count, epochs=model.epochs)"
   ]
  },
  {
   "cell_type": "code",
   "execution_count": 14,
   "metadata": {},
   "outputs": [
    {
     "data": {
      "text/plain": [
       "[('elif', 0.7267760634422302),\n",
       " ('while', 0.7256699204444885),\n",
       " ('otherwise', 0.70643550157547),\n",
       " ('when', 0.6932011246681213),\n",
       " ('whether', 0.6787410974502563),\n",
       " ('or', 0.668349027633667),\n",
       " ('unless', 0.6567378640174866),\n",
       " ('found', 0.6440796852111816),\n",
       " ('none', 0.6367156505584717),\n",
       " ('selected', 0.6317272186279297)]"
      ]
     },
     "execution_count": 14,
     "metadata": {},
     "output_type": "execute_result"
    }
   ],
   "source": [
    "model.wv.most_similar('if')"
   ]
  },
  {
   "cell_type": "code",
   "execution_count": 15,
   "metadata": {},
   "outputs": [
    {
     "data": {
      "text/plain": [
       "[('matplotlib', 0.8324621319770813),\n",
       " ('gdal', 0.8041468858718872),\n",
       " ('api', 0.802513599395752),\n",
       " ('directly', 0.7969915270805359),\n",
       " ('versioneer', 0.793566107749939),\n",
       " ('binary', 0.7857949733734131),\n",
       " ('builtin', 0.7826147079467773),\n",
       " ('oracle', 0.7798064947128296),\n",
       " ('itself', 0.7773300409317017),\n",
       " ('standard', 0.7761883735656738)]"
      ]
     },
     "execution_count": 15,
     "metadata": {},
     "output_type": "execute_result"
    }
   ],
   "source": [
    "model.wv.most_similar('numpy')"
   ]
  },
  {
   "cell_type": "code",
   "execution_count": 16,
   "metadata": {},
   "outputs": [
    {
     "data": {
      "text/plain": [
       "[('below', 0.7237342596054077),\n",
       " ('across', 0.7089332342147827),\n",
       " ('please', 0.7050853371620178),\n",
       " ('including', 0.7019847631454468),\n",
       " ('display', 0.6991961598396301),\n",
       " ('various', 0.6927320957183838),\n",
       " ('general', 0.6883082985877991),\n",
       " ('specific', 0.6863961815834045),\n",
       " ('indexing', 0.6849290728569031),\n",
       " ('within', 0.6814305186271667)]"
      ]
     },
     "execution_count": 16,
     "metadata": {},
     "output_type": "execute_result"
    }
   ],
   "source": [
    "model.wv.most_similar('for')"
   ]
  },
  {
   "cell_type": "code",
   "execution_count": 17,
   "metadata": {},
   "outputs": [
    {
     "data": {
      "text/plain": [
       "[('binary', 0.8138453960418701),\n",
       " ('load', 0.8135682940483093),\n",
       " ('gdal', 0.8102364540100098),\n",
       " ('eg', 0.7961181402206421),\n",
       " ('django', 0.7855205535888672),\n",
       " ('fixture', 0.7815836071968079),\n",
       " ('format', 0.7784234285354614),\n",
       " ('interface', 0.7713886499404907),\n",
       " ('matplotlib', 0.768764853477478),\n",
       " ('standard', 0.7653239369392395)]"
      ]
     },
     "execution_count": 17,
     "metadata": {},
     "output_type": "execute_result"
    }
   ],
   "source": [
    "model.wv.most_similar('python')"
   ]
  },
  {
   "cell_type": "code",
   "execution_count": 18,
   "metadata": {},
   "outputs": [
    {
     "data": {
      "text/plain": [
       "[('logging', 0.8317571878433228),\n",
       " ('plugins', 0.810835063457489),\n",
       " ('annotations', 0.7966151237487793),\n",
       " ('templates', 0.7779213190078735),\n",
       " ('namespace', 0.7772566676139832),\n",
       " ('signal', 0.7766333818435669),\n",
       " ('config', 0.7761315107345581),\n",
       " ('pickle', 0.771510660648346),\n",
       " ('resources', 0.7708527445793152),\n",
       " ('translation', 0.7708090543746948)]"
      ]
     },
     "execution_count": 18,
     "metadata": {},
     "output_type": "execute_result"
    }
   ],
   "source": [
    "model.wv.most_similar('flask')"
   ]
  },
  {
   "cell_type": "code",
   "execution_count": 19,
   "metadata": {},
   "outputs": [
    {
     "data": {
      "text/plain": [
       "array([-1.7302105 ,  0.50221866,  0.37144628,  1.4343623 , -2.039419  ,\n",
       "       -0.34686792, -0.7231084 , -1.661929  , -0.45094705, -0.7999894 ,\n",
       "        0.6478915 , -0.7948832 ,  1.7012442 , -0.42826164,  1.0805004 ,\n",
       "       -0.2804111 ,  1.0000262 ,  1.5465701 , -0.11260995,  1.3565098 ,\n",
       "        0.73264915,  0.2912334 , -0.1848928 ,  0.43905225, -0.97337526,\n",
       "        0.30013788, -2.7146606 , -0.13726684, -0.891709  , -3.03172   ,\n",
       "       -2.7250493 ,  2.4880543 ,  1.0989199 ,  2.3629422 ,  0.40770912,\n",
       "       -0.46176133,  0.45915857, -0.68757534, -0.18481143,  1.3965966 ,\n",
       "       -2.3912542 ,  0.434554  ,  2.0378282 ,  0.44790104,  0.99562246,\n",
       "        0.6421954 ,  0.5018004 ,  1.0378242 , -1.6332145 ,  0.43926728,\n",
       "        0.07721429,  2.6986628 , -0.41836658, -1.7900299 , -2.5266316 ,\n",
       "        0.16983889,  0.16527368,  0.32524964, -0.22503066, -0.15705043,\n",
       "       -1.9434252 ,  1.3334484 , -1.5357608 ,  1.021575  ,  0.0078619 ,\n",
       "       -0.25204962, -0.60165364,  1.1908046 ,  0.8841861 ,  1.1613113 ,\n",
       "       -0.5101802 , -0.5417403 , -0.6604171 , -1.2492521 ,  0.66597575,\n",
       "        2.3215065 ,  0.8225421 ,  0.84403247, -0.20336244, -0.73025805,\n",
       "       -2.0659091 , -1.4417974 ,  1.6547674 ,  0.27737388, -1.6984415 ,\n",
       "        0.92424387,  1.7730843 , -1.1195654 , -0.8696443 ,  0.80293643,\n",
       "       -2.7596614 , -1.4519732 , -0.46664762,  0.69218427,  1.1513611 ,\n",
       "        2.1015036 , -0.38266858,  1.374615  , -0.37500548,  1.5249507 ],\n",
       "      dtype=float32)"
      ]
     },
     "execution_count": 19,
     "metadata": {},
     "output_type": "execute_result"
    }
   ],
   "source": [
    "model.wv['django']"
   ]
  },
  {
   "cell_type": "code",
   "execution_count": null,
   "metadata": {},
   "outputs": [],
   "source": []
  }
 ],
 "metadata": {
  "kernelspec": {
   "display_name": "Python 3",
   "language": "python",
   "name": "python3"
  },
  "language_info": {
   "codemirror_mode": {
    "name": "ipython",
    "version": 3
   },
   "file_extension": ".py",
   "mimetype": "text/x-python",
   "name": "python",
   "nbconvert_exporter": "python",
   "pygments_lexer": "ipython3",
   "version": "3.10.4"
  },
  "orig_nbformat": 4,
  "vscode": {
   "interpreter": {
    "hash": "3ad933181bd8a04b432d3370b9dc3b0662ad032c4dfaa4e4f1596c548f763858"
   }
  }
 },
 "nbformat": 4,
 "nbformat_minor": 2
}
