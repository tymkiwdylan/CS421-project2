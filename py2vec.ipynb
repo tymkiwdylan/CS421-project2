{
 "cells": [
  {
   "cell_type": "code",
   "execution_count": 11,
   "metadata": {},
   "outputs": [],
   "source": [
    "from git import Repo\n",
    "import os\n",
    "import re\n",
    "import string"
   ]
  },
  {
   "cell_type": "code",
   "execution_count": 5,
   "metadata": {},
   "outputs": [],
   "source": [
    "repos = {\n",
    "'https://github.com/matplotlib/matplotlib': 'matplotlib',\n",
    "'https://github.com/django/django': 'django',\n",
    "'https://github.com/numpy/numpy': 'numpy',\n",
    "'https://github.com/pallets/flask': 'flask',\n",
    "'https://github.com/beetbox/beets': 'beets'}"
   ]
  },
  {
   "cell_type": "code",
   "execution_count": null,
   "metadata": {},
   "outputs": [],
   "source": [
    "for repo in repos:\n",
    "    Repo.clone_from(repo, repos[repo])\n"
   ]
  },
  {
   "cell_type": "code",
   "execution_count": 6,
   "metadata": {},
   "outputs": [],
   "source": [
    "repo_directories = list(repos.values())"
   ]
  },
  {
   "cell_type": "code",
   "execution_count": 9,
   "metadata": {},
   "outputs": [],
   "source": [
    "def find_python_files(paths):\n",
    "    python_files = []\n",
    "    for path in paths:\n",
    "        for root, dirs, files in os.walk(path):\n",
    "            for file in files:\n",
    "                if file.endswith('.py'):\n",
    "                    python_files.append(os.path.join(root, file))\n",
    "    return python_files\n",
    "\n",
    "def join_python_files(files, output_file):\n",
    "    with open(output_file, 'w') as outfile:\n",
    "        for file in files:\n",
    "            with open(file, 'r') as infile:\n",
    "                outfile.write(infile.read())\n",
    "\n",
    "\n",
    "python_files = find_python_files(repo_directories)\n",
    "join_python_files(python_files, 'data_to_process.txt')"
   ]
  },
  {
   "cell_type": "code",
   "execution_count": 10,
   "metadata": {},
   "outputs": [
    {
     "name": "stdout",
     "output_type": "stream",
     "text": [
      "1042563\n"
     ]
    }
   ],
   "source": [
    "num_lines = 0\n",
    "with open('data_to_process.txt', 'r') as file:\n",
    "    lines = file.readlines()\n",
    "    num_lines = len(lines)\n",
    "\n",
    "print(num_lines)"
   ]
  },
  {
   "cell_type": "code",
   "execution_count": 16,
   "metadata": {},
   "outputs": [],
   "source": [
    "def tokenize(path):\n",
    "    with open(path, 'r') as file:\n",
    "        # Read all the lines of the file\n",
    "        lines = file.readlines()\n",
    "\n",
    "        # Lowercase everything and split on whitespace and punctuation characters\n",
    "        tokenized_lines = []\n",
    "        for line in lines:\n",
    "            # Remove punctuation\n",
    "            line = line.translate(str.maketrans('', '', string.punctuation))\n",
    "            # Lowercase and tokenize\n",
    "            tokens = re.findall(r'\\w+', line.lower())\n",
    "            tokenized_lines.append(tokens)\n",
    "\n",
    "        # Print the tokenized lines\n",
    "    return tokenized_lines\n",
    "\n",
    "tokenized = tokenize('data_to_process.txt')"
   ]
  },
  {
   "cell_type": "code",
   "execution_count": 17,
   "metadata": {},
   "outputs": [],
   "source": [
    "print(tokenized)"
   ]
  },
  {
   "cell_type": "code",
   "execution_count": null,
   "metadata": {},
   "outputs": [],
   "source": []
  }
 ],
 "metadata": {
  "kernelspec": {
   "display_name": "Python 3",
   "language": "python",
   "name": "python3"
  },
  "language_info": {
   "codemirror_mode": {
    "name": "ipython",
    "version": 3
   },
   "file_extension": ".py",
   "mimetype": "text/x-python",
   "name": "python",
   "nbconvert_exporter": "python",
   "pygments_lexer": "ipython3",
   "version": "3.10.4"
  },
  "orig_nbformat": 4,
  "vscode": {
   "interpreter": {
    "hash": "3ad933181bd8a04b432d3370b9dc3b0662ad032c4dfaa4e4f1596c548f763858"
   }
  }
 },
 "nbformat": 4,
 "nbformat_minor": 2
}
