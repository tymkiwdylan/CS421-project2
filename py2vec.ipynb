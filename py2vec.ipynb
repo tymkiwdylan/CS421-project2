{
 "cells": [
  {
   "cell_type": "code",
   "execution_count": 5,
   "metadata": {},
   "outputs": [],
   "source": [
    "from git import Repo\n",
    "import os\n"
   ]
  },
  {
   "cell_type": "code",
   "execution_count": 7,
   "metadata": {},
   "outputs": [],
   "source": [
    "repos = {\n",
    "'https://github.com/matplotlib/matplotlib': 'matplotlib',\n",
    "'https://github.com/django/django': 'django',\n",
    "'https://github.com/numpy/numpy': 'numpy',\n",
    "'https://github.com/pallets/flask': 'flask',\n",
    "'https://github.com/pytorch/pytorch': 'flask'}"
   ]
  },
  {
   "cell_type": "code",
   "execution_count": 8,
   "metadata": {},
   "outputs": [
    {
     "ename": "GitCommandError",
     "evalue": "Cmd('git') failed due to: exit code(128)\n  cmdline: git clone -v -- https://github.com/matplotlib/matplotlib matplotlib\n  stderr: 'fatal: destination path 'matplotlib' already exists and is not an empty directory.\n'",
     "output_type": "error",
     "traceback": [
      "\u001b[0;31m---------------------------------------------------------------------------\u001b[0m",
      "\u001b[0;31mGitCommandError\u001b[0m                           Traceback (most recent call last)",
      "Cell \u001b[0;32mIn[8], line 2\u001b[0m\n\u001b[1;32m      1\u001b[0m \u001b[39mfor\u001b[39;00m repo \u001b[39min\u001b[39;00m repos:\n\u001b[0;32m----> 2\u001b[0m     Repo\u001b[39m.\u001b[39;49mclone_from(repo, repos[repo])\n",
      "File \u001b[0;32m~/.local/lib/python3.10/site-packages/git/repo/base.py:1308\u001b[0m, in \u001b[0;36mRepo.clone_from\u001b[0;34m(cls, url, to_path, progress, env, multi_options, allow_unsafe_protocols, allow_unsafe_options, **kwargs)\u001b[0m\n\u001b[1;32m   1306\u001b[0m \u001b[39mif\u001b[39;00m env \u001b[39mis\u001b[39;00m \u001b[39mnot\u001b[39;00m \u001b[39mNone\u001b[39;00m:\n\u001b[1;32m   1307\u001b[0m     git\u001b[39m.\u001b[39mupdate_environment(\u001b[39m*\u001b[39m\u001b[39m*\u001b[39menv)\n\u001b[0;32m-> 1308\u001b[0m \u001b[39mreturn\u001b[39;00m \u001b[39mcls\u001b[39;49m\u001b[39m.\u001b[39;49m_clone(\n\u001b[1;32m   1309\u001b[0m     git,\n\u001b[1;32m   1310\u001b[0m     url,\n\u001b[1;32m   1311\u001b[0m     to_path,\n\u001b[1;32m   1312\u001b[0m     GitCmdObjectDB,\n\u001b[1;32m   1313\u001b[0m     progress,\n\u001b[1;32m   1314\u001b[0m     multi_options,\n\u001b[1;32m   1315\u001b[0m     allow_unsafe_protocols\u001b[39m=\u001b[39;49mallow_unsafe_protocols,\n\u001b[1;32m   1316\u001b[0m     allow_unsafe_options\u001b[39m=\u001b[39;49mallow_unsafe_options,\n\u001b[1;32m   1317\u001b[0m     \u001b[39m*\u001b[39;49m\u001b[39m*\u001b[39;49mkwargs,\n\u001b[1;32m   1318\u001b[0m )\n",
      "File \u001b[0;32m~/.local/lib/python3.10/site-packages/git/repo/base.py:1219\u001b[0m, in \u001b[0;36mRepo._clone\u001b[0;34m(cls, git, url, path, odb_default_type, progress, multi_options, allow_unsafe_protocols, allow_unsafe_options, **kwargs)\u001b[0m\n\u001b[1;32m   1216\u001b[0m     cmdline \u001b[39m=\u001b[39m remove_password_if_present(cmdline)\n\u001b[1;32m   1218\u001b[0m     log\u001b[39m.\u001b[39mdebug(\u001b[39m\"\u001b[39m\u001b[39mCmd(\u001b[39m\u001b[39m%s\u001b[39;00m\u001b[39m)\u001b[39m\u001b[39m'\u001b[39m\u001b[39ms unused stdout: \u001b[39m\u001b[39m%s\u001b[39;00m\u001b[39m\"\u001b[39m, cmdline, stdout)\n\u001b[0;32m-> 1219\u001b[0m     finalize_process(proc, stderr\u001b[39m=\u001b[39;49mstderr)\n\u001b[1;32m   1221\u001b[0m \u001b[39m# our git command could have a different working dir than our actual\u001b[39;00m\n\u001b[1;32m   1222\u001b[0m \u001b[39m# environment, hence we prepend its working dir if required\u001b[39;00m\n\u001b[1;32m   1223\u001b[0m \u001b[39mif\u001b[39;00m \u001b[39mnot\u001b[39;00m osp\u001b[39m.\u001b[39misabs(path):\n",
      "File \u001b[0;32m~/.local/lib/python3.10/site-packages/git/util.py:419\u001b[0m, in \u001b[0;36mfinalize_process\u001b[0;34m(proc, **kwargs)\u001b[0m\n\u001b[1;32m    417\u001b[0m \u001b[39m\u001b[39m\u001b[39m\"\"\"Wait for the process (clone, fetch, pull or push) and handle its errors accordingly\"\"\"\u001b[39;00m\n\u001b[1;32m    418\u001b[0m \u001b[39m# TODO: No close proc-streams??\u001b[39;00m\n\u001b[0;32m--> 419\u001b[0m proc\u001b[39m.\u001b[39;49mwait(\u001b[39m*\u001b[39;49m\u001b[39m*\u001b[39;49mkwargs)\n",
      "File \u001b[0;32m~/.local/lib/python3.10/site-packages/git/cmd.py:604\u001b[0m, in \u001b[0;36mGit.AutoInterrupt.wait\u001b[0;34m(self, stderr)\u001b[0m\n\u001b[1;32m    602\u001b[0m     errstr \u001b[39m=\u001b[39m read_all_from_possibly_closed_stream(p_stderr)\n\u001b[1;32m    603\u001b[0m     log\u001b[39m.\u001b[39mdebug(\u001b[39m\"\u001b[39m\u001b[39mAutoInterrupt wait stderr: \u001b[39m\u001b[39m%r\u001b[39;00m\u001b[39m\"\u001b[39m \u001b[39m%\u001b[39m (errstr,))\n\u001b[0;32m--> 604\u001b[0m     \u001b[39mraise\u001b[39;00m GitCommandError(remove_password_if_present(\u001b[39mself\u001b[39m\u001b[39m.\u001b[39margs), status, errstr)\n\u001b[1;32m    605\u001b[0m \u001b[39mreturn\u001b[39;00m status\n",
      "\u001b[0;31mGitCommandError\u001b[0m: Cmd('git') failed due to: exit code(128)\n  cmdline: git clone -v -- https://github.com/matplotlib/matplotlib matplotlib\n  stderr: 'fatal: destination path 'matplotlib' already exists and is not an empty directory.\n'"
     ]
    }
   ],
   "source": [
    "for repo in repos:\n",
    "    Repo.clone_from(repo, repos[repo])"
   ]
  },
  {
   "cell_type": "code",
   "execution_count": null,
   "metadata": {},
   "outputs": [],
   "source": []
  }
 ],
 "metadata": {
  "kernelspec": {
   "display_name": "Python 3",
   "language": "python",
   "name": "python3"
  },
  "language_info": {
   "codemirror_mode": {
    "name": "ipython",
    "version": 3
   },
   "file_extension": ".py",
   "mimetype": "text/x-python",
   "name": "python",
   "nbconvert_exporter": "python",
   "pygments_lexer": "ipython3",
   "version": "3.10.4"
  },
  "orig_nbformat": 4,
  "vscode": {
   "interpreter": {
    "hash": "3ad933181bd8a04b432d3370b9dc3b0662ad032c4dfaa4e4f1596c548f763858"
   }
  }
 },
 "nbformat": 4,
 "nbformat_minor": 2
}
