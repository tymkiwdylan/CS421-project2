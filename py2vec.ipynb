{
 "cells": [
  {
   "cell_type": "code",
   "execution_count": 1,
   "metadata": {},
   "outputs": [],
   "source": [
    "import gh_download as ghd\n",
    "from github import Github\n",
    "import os"
   ]
  },
  {
   "cell_type": "code",
   "execution_count": 2,
   "metadata": {},
   "outputs": [
    {
     "ename": "FileNotFoundError",
     "evalue": "[Errno 2] No such file or directory: ''",
     "output_type": "error",
     "traceback": [
      "\u001b[0;31m---------------------------------------------------------------------------\u001b[0m",
      "\u001b[0;31mFileNotFoundError\u001b[0m                         Traceback (most recent call last)",
      "Cell \u001b[0;32mIn[2], line 11\u001b[0m\n\u001b[1;32m      9\u001b[0m repository \u001b[39m=\u001b[39m organization\u001b[39m.\u001b[39mget_repo(repo)\n\u001b[1;32m     10\u001b[0m sha \u001b[39m=\u001b[39m ghd\u001b[39m.\u001b[39mget_sha_for_tag(repository, branch)\n\u001b[0;32m---> 11\u001b[0m ghd\u001b[39m.\u001b[39;49mdownload_directory(repository, sha, folder)\n",
      "File \u001b[0;32m/workspaces/CS421-project2/gh_download.py:40\u001b[0m, in \u001b[0;36mdownload_directory\u001b[0;34m(repository, sha, server_path)\u001b[0m\n\u001b[1;32m     37\u001b[0m \u001b[39mif\u001b[39;00m os\u001b[39m.\u001b[39mpath\u001b[39m.\u001b[39mexists(server_path):\n\u001b[1;32m     38\u001b[0m     shutil\u001b[39m.\u001b[39mrmtree(server_path)\n\u001b[0;32m---> 40\u001b[0m os\u001b[39m.\u001b[39;49mmakedirs(server_path)\n\u001b[1;32m     41\u001b[0m contents \u001b[39m=\u001b[39m repository\u001b[39m.\u001b[39mget_dir_contents(server_path, ref\u001b[39m=\u001b[39msha)\n\u001b[1;32m     43\u001b[0m \u001b[39mfor\u001b[39;00m content \u001b[39min\u001b[39;00m contents:\n",
      "File \u001b[0;32m~/.python/current/lib/python3.10/os.py:225\u001b[0m, in \u001b[0;36mmakedirs\u001b[0;34m(name, mode, exist_ok)\u001b[0m\n\u001b[1;32m    223\u001b[0m         \u001b[39mreturn\u001b[39;00m\n\u001b[1;32m    224\u001b[0m \u001b[39mtry\u001b[39;00m:\n\u001b[0;32m--> 225\u001b[0m     mkdir(name, mode)\n\u001b[1;32m    226\u001b[0m \u001b[39mexcept\u001b[39;00m \u001b[39mOSError\u001b[39;00m:\n\u001b[1;32m    227\u001b[0m     \u001b[39m# Cannot rely on checking for EEXIST, since the operating system\u001b[39;00m\n\u001b[1;32m    228\u001b[0m     \u001b[39m# could give priority to other errors like EACCES or EROFS\u001b[39;00m\n\u001b[1;32m    229\u001b[0m     \u001b[39mif\u001b[39;00m \u001b[39mnot\u001b[39;00m exist_ok \u001b[39mor\u001b[39;00m \u001b[39mnot\u001b[39;00m path\u001b[39m.\u001b[39misdir(name):\n",
      "\u001b[0;31mFileNotFoundError\u001b[0m: [Errno 2] No such file or directory: ''"
     ]
    }
   ],
   "source": [
    "token = os.environ.get('KEY')\n",
    "org = 'matplotlib'\n",
    "repo = 'matplotlib'\n",
    "branch = 'main'\n",
    "folder = '/'\n",
    "\n",
    "github = Github(token)\n",
    "organization = github.get_organization(org)\n",
    "repository = organization.get_repo(repo)\n",
    "sha = ghd.get_sha_for_tag(repository, branch)\n",
    "ghd.download_directory(repository, sha, folder)\n"
   ]
  },
  {
   "cell_type": "code",
   "execution_count": null,
   "metadata": {},
   "outputs": [],
   "source": []
  }
 ],
 "metadata": {
  "kernelspec": {
   "display_name": "Python 3",
   "language": "python",
   "name": "python3"
  },
  "language_info": {
   "codemirror_mode": {
    "name": "ipython",
    "version": 3
   },
   "file_extension": ".py",
   "mimetype": "text/x-python",
   "name": "python",
   "nbconvert_exporter": "python",
   "pygments_lexer": "ipython3",
   "version": "3.10.4"
  },
  "orig_nbformat": 4,
  "vscode": {
   "interpreter": {
    "hash": "3ad933181bd8a04b432d3370b9dc3b0662ad032c4dfaa4e4f1596c548f763858"
   }
  }
 },
 "nbformat": 4,
 "nbformat_minor": 2
}
